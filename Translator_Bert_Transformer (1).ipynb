{
 "cells": [
  {
   "cell_type": "code",
   "execution_count": null,
   "metadata": {
    "colab": {
     "base_uri": "https://localhost:8080/"
    },
    "id": "NaKin1Nt-oIl",
    "outputId": "fb70c3f8-6ebf-4fb9-d1ed-98b60056b315"
   },
   "outputs": [
    {
     "name": "stdout",
     "output_type": "stream",
     "text": [
      "Requirement already satisfied: transformers in /usr/local/lib/python3.11/dist-packages (4.48.3)\n",
      "Collecting datasets\n",
      "  Downloading datasets-3.3.2-py3-none-any.whl.metadata (19 kB)\n",
      "Requirement already satisfied: sentencepiece in /usr/local/lib/python3.11/dist-packages (0.2.0)\n",
      "Requirement already satisfied: filelock in /usr/local/lib/python3.11/dist-packages (from transformers) (3.17.0)\n",
      "Requirement already satisfied: huggingface-hub<1.0,>=0.24.0 in /usr/local/lib/python3.11/dist-packages (from transformers) (0.28.1)\n",
      "Requirement already satisfied: numpy>=1.17 in /usr/local/lib/python3.11/dist-packages (from transformers) (1.26.4)\n",
      "Requirement already satisfied: packaging>=20.0 in /usr/local/lib/python3.11/dist-packages (from transformers) (24.2)\n",
      "Requirement already satisfied: pyyaml>=5.1 in /usr/local/lib/python3.11/dist-packages (from transformers) (6.0.2)\n",
      "Requirement already satisfied: regex!=2019.12.17 in /usr/local/lib/python3.11/dist-packages (from transformers) (2024.11.6)\n",
      "Requirement already satisfied: requests in /usr/local/lib/python3.11/dist-packages (from transformers) (2.32.3)\n",
      "Requirement already satisfied: tokenizers<0.22,>=0.21 in /usr/local/lib/python3.11/dist-packages (from transformers) (0.21.0)\n",
      "Requirement already satisfied: safetensors>=0.4.1 in /usr/local/lib/python3.11/dist-packages (from transformers) (0.5.2)\n",
      "Requirement already satisfied: tqdm>=4.27 in /usr/local/lib/python3.11/dist-packages (from transformers) (4.67.1)\n",
      "Requirement already satisfied: pyarrow>=15.0.0 in /usr/local/lib/python3.11/dist-packages (from datasets) (18.1.0)\n",
      "Collecting dill<0.3.9,>=0.3.0 (from datasets)\n",
      "  Downloading dill-0.3.8-py3-none-any.whl.metadata (10 kB)\n",
      "Requirement already satisfied: pandas in /usr/local/lib/python3.11/dist-packages (from datasets) (2.2.2)\n",
      "Collecting xxhash (from datasets)\n",
      "  Downloading xxhash-3.5.0-cp311-cp311-manylinux_2_17_x86_64.manylinux2014_x86_64.whl.metadata (12 kB)\n",
      "Collecting multiprocess<0.70.17 (from datasets)\n",
      "  Downloading multiprocess-0.70.16-py311-none-any.whl.metadata (7.2 kB)\n",
      "Requirement already satisfied: fsspec<=2024.12.0,>=2023.1.0 in /usr/local/lib/python3.11/dist-packages (from fsspec[http]<=2024.12.0,>=2023.1.0->datasets) (2024.10.0)\n",
      "Requirement already satisfied: aiohttp in /usr/local/lib/python3.11/dist-packages (from datasets) (3.11.12)\n",
      "Requirement already satisfied: aiohappyeyeballs>=2.3.0 in /usr/local/lib/python3.11/dist-packages (from aiohttp->datasets) (2.4.6)\n",
      "Requirement already satisfied: aiosignal>=1.1.2 in /usr/local/lib/python3.11/dist-packages (from aiohttp->datasets) (1.3.2)\n",
      "Requirement already satisfied: attrs>=17.3.0 in /usr/local/lib/python3.11/dist-packages (from aiohttp->datasets) (25.1.0)\n",
      "Requirement already satisfied: frozenlist>=1.1.1 in /usr/local/lib/python3.11/dist-packages (from aiohttp->datasets) (1.5.0)\n",
      "Requirement already satisfied: multidict<7.0,>=4.5 in /usr/local/lib/python3.11/dist-packages (from aiohttp->datasets) (6.1.0)\n",
      "Requirement already satisfied: propcache>=0.2.0 in /usr/local/lib/python3.11/dist-packages (from aiohttp->datasets) (0.3.0)\n",
      "Requirement already satisfied: yarl<2.0,>=1.17.0 in /usr/local/lib/python3.11/dist-packages (from aiohttp->datasets) (1.18.3)\n",
      "Requirement already satisfied: typing-extensions>=3.7.4.3 in /usr/local/lib/python3.11/dist-packages (from huggingface-hub<1.0,>=0.24.0->transformers) (4.12.2)\n",
      "Requirement already satisfied: charset-normalizer<4,>=2 in /usr/local/lib/python3.11/dist-packages (from requests->transformers) (3.4.1)\n",
      "Requirement already satisfied: idna<4,>=2.5 in /usr/local/lib/python3.11/dist-packages (from requests->transformers) (3.10)\n",
      "Requirement already satisfied: urllib3<3,>=1.21.1 in /usr/local/lib/python3.11/dist-packages (from requests->transformers) (2.3.0)\n",
      "Requirement already satisfied: certifi>=2017.4.17 in /usr/local/lib/python3.11/dist-packages (from requests->transformers) (2025.1.31)\n",
      "Requirement already satisfied: python-dateutil>=2.8.2 in /usr/local/lib/python3.11/dist-packages (from pandas->datasets) (2.8.2)\n",
      "Requirement already satisfied: pytz>=2020.1 in /usr/local/lib/python3.11/dist-packages (from pandas->datasets) (2025.1)\n",
      "Requirement already satisfied: tzdata>=2022.7 in /usr/local/lib/python3.11/dist-packages (from pandas->datasets) (2025.1)\n",
      "Requirement already satisfied: six>=1.5 in /usr/local/lib/python3.11/dist-packages (from python-dateutil>=2.8.2->pandas->datasets) (1.17.0)\n",
      "Downloading datasets-3.3.2-py3-none-any.whl (485 kB)\n",
      "\u001b[2K   \u001b[90m━━━━━━━━━━━━━━━━━━━━━━━━━━━━━━━━━━━━━━━━\u001b[0m \u001b[32m485.4/485.4 kB\u001b[0m \u001b[31m18.8 MB/s\u001b[0m eta \u001b[36m0:00:00\u001b[0m\n",
      "\u001b[?25hDownloading dill-0.3.8-py3-none-any.whl (116 kB)\n",
      "\u001b[2K   \u001b[90m━━━━━━━━━━━━━━━━━━━━━━━━━━━━━━━━━━━━━━━━\u001b[0m \u001b[32m116.3/116.3 kB\u001b[0m \u001b[31m8.3 MB/s\u001b[0m eta \u001b[36m0:00:00\u001b[0m\n",
      "\u001b[?25hDownloading multiprocess-0.70.16-py311-none-any.whl (143 kB)\n",
      "\u001b[2K   \u001b[90m━━━━━━━━━━━━━━━━━━━━━━━━━━━━━━━━━━━━━━━━\u001b[0m \u001b[32m143.5/143.5 kB\u001b[0m \u001b[31m7.2 MB/s\u001b[0m eta \u001b[36m0:00:00\u001b[0m\n",
      "\u001b[?25hDownloading xxhash-3.5.0-cp311-cp311-manylinux_2_17_x86_64.manylinux2014_x86_64.whl (194 kB)\n",
      "\u001b[2K   \u001b[90m━━━━━━━━━━━━━━━━━━━━━━━━━━━━━━━━━━━━━━━━\u001b[0m \u001b[32m194.8/194.8 kB\u001b[0m \u001b[31m11.3 MB/s\u001b[0m eta \u001b[36m0:00:00\u001b[0m\n",
      "\u001b[?25hInstalling collected packages: xxhash, dill, multiprocess, datasets\n",
      "Successfully installed datasets-3.3.2 dill-0.3.8 multiprocess-0.70.16 xxhash-3.5.0\n"
     ]
    }
   ],
   "source": [
    "!pip install transformers datasets sentencepiece"
   ]
  },
  {
   "cell_type": "code",
   "execution_count": null,
   "metadata": {
    "colab": {
     "base_uri": "https://localhost:8080/",
     "height": 443,
     "referenced_widgets": [
      "9b9101cc51c34f65ad8d9f3eb456f176",
      "f5616831aad74eb6b09d90b6198f563e",
      "c96945beec0042baa9542f2e8382f90a",
      "05980f64875f4468a18e08e02f5f8224",
      "ab29e8e27bf44f5383a9c5e5e3e6bfe2",
      "ac9dbfbaeaeb4e54919891bf9e9ba547",
      "58932bbd7c27481497ab57ae19bbc90c",
      "6f7cd35b9b7f49b8b2a52bbb778dbe1e",
      "22996a9d710640cab3efa8210f5d3c77",
      "a660f3da00984f17a6b94846db74b5b5",
      "cf2c310fcf8a4bde9e1efd27debe112c",
      "3faffbd39eb44af6aaa2c18f94891a84",
      "3edeb7f6c7844977b3cf23aa0d3d794a",
      "221d3fd8bbf747438b55f9601e7284c4",
      "619bfa586ccf43d185816443a7c65af6",
      "3004cdd49c5d41f8ba12a453131dfb0f",
      "8e6f61a1e7e544e4a506d0a1b84f122a",
      "4fac2e4faf9c4ceaa0e27a1dc7d5e8c8",
      "1d9497086e3c4945980570dc57294c49",
      "2ff54778dc5d4b469e9c38fcb6110df6",
      "25da6b8543dd45c78b9c65cfbd7c0e08",
      "1400e05e520e4a95b2eca0cdf5835f6d",
      "804248d9d09e478585691d3d08d3880d",
      "6766c071d9fd4e088342246e27217695",
      "6a0209b95e5f45eebb22ea701e2805fe",
      "79624a6feba84e61af40a48ae46e17e2",
      "81566f4d346849888160e7e37fa3acd2",
      "1a97be28b7ad4ff0b013b8ebcfa1a1d3",
      "15fdf3b8d96842ffa86f725152fa4059",
      "42dd7f708f174cc1a4dac508787f143a",
      "c27434a5db844b2d87efcfdd89986489",
      "94b76812cb7f4a119c505231416f7dbe",
      "59a35c0af17d4625a7ee5eaa6e03d5d7",
      "0555bca49f1645049631194bd5caa392",
      "f2b13449a4114603ac08638d20dbb5fb",
      "f68b215b64b2462a9da1bd2327157140",
      "b75cc87332394974b486153be71f2cd6",
      "f6d6758d22f24d138aa3c7dd221f3815",
      "4b66ec29f46041ababf816238b000074",
      "500ebf5d5c7f44df8e69aba5a525c68c",
      "02dc0255688c4da282993744a121877d",
      "ab75a92ace584eeb9b581ddf3a391d19",
      "02816d0d16a84b93a9b24aeba151922c",
      "831a9cf723ab4fec9333d8044014500d"
     ]
    },
    "id": "pmZobmjz-2PH",
    "outputId": "d1cefdbf-19be-49f0-bcf2-3ced4ab5f86b"
   },
   "outputs": [
    {
     "name": "stderr",
     "output_type": "stream",
     "text": [
      "/usr/local/lib/python3.11/dist-packages/huggingface_hub/utils/_auth.py:94: UserWarning: \n",
      "The secret `HF_TOKEN` does not exist in your Colab secrets.\n",
      "To authenticate with the Hugging Face Hub, create a token in your settings tab (https://huggingface.co/settings/tokens), set it as secret in your Google Colab and restart your session.\n",
      "You will be able to reuse this secret in all of your notebooks.\n",
      "Please note that authentication is recommended but still optional to access public models or datasets.\n",
      "  warnings.warn(\n"
     ]
    },
    {
     "data": {
      "application/vnd.jupyter.widget-view+json": {
       "model_id": "9b9101cc51c34f65ad8d9f3eb456f176",
       "version_major": 2,
       "version_minor": 0
      },
      "text/plain": [
       "README.md:   0%|          | 0.00/5.10k [00:00<?, ?B/s]"
      ]
     },
     "metadata": {},
     "output_type": "display_data"
    },
    {
     "data": {
      "application/vnd.jupyter.widget-view+json": {
       "model_id": "3faffbd39eb44af6aaa2c18f94891a84",
       "version_major": 2,
       "version_minor": 0
      },
      "text/plain": [
       "kde4.py:   0%|          | 0.00/4.25k [00:00<?, ?B/s]"
      ]
     },
     "metadata": {},
     "output_type": "display_data"
    },
    {
     "name": "stdout",
     "output_type": "stream",
     "text": [
      "The repository for kde4 contains custom code which must be executed to correctly load the dataset. You can inspect the repository content at https://hf.co/datasets/kde4.\n",
      "You can avoid this prompt in future by passing the argument `trust_remote_code=True`.\n",
      "\n",
      "Do you wish to run the custom code? [y/N] y\n"
     ]
    },
    {
     "data": {
      "application/vnd.jupyter.widget-view+json": {
       "model_id": "804248d9d09e478585691d3d08d3880d",
       "version_major": 2,
       "version_minor": 0
      },
      "text/plain": [
       "Downloading data:   0%|          | 0.00/7.05M [00:00<?, ?B/s]"
      ]
     },
     "metadata": {},
     "output_type": "display_data"
    },
    {
     "data": {
      "application/vnd.jupyter.widget-view+json": {
       "model_id": "0555bca49f1645049631194bd5caa392",
       "version_major": 2,
       "version_minor": 0
      },
      "text/plain": [
       "Generating train split:   0%|          | 0/210173 [00:00<?, ? examples/s]"
      ]
     },
     "metadata": {},
     "output_type": "display_data"
    },
    {
     "data": {
      "text/plain": [
       "DatasetDict({\n",
       "    train: Dataset({\n",
       "        features: ['id', 'translation'],\n",
       "        num_rows: 210173\n",
       "    })\n",
       "})"
      ]
     },
     "execution_count": 2,
     "metadata": {},
     "output_type": "execute_result"
    }
   ],
   "source": [
    "# load data\n",
    "from datasets import load_dataset\n",
    "data = load_dataset('kde4', lang1=\"en\", lang2=\"fr\")\n",
    "data"
   ]
  },
  {
   "cell_type": "code",
   "execution_count": null,
   "metadata": {
    "id": "gpdwpLKq_XG3"
   },
   "outputs": [],
   "source": [
    "new_data = data[\"train\"].shuffle(seed=42).select(range(210173//2)) # using 50% of data\n",
    "split = new_data.train_test_split(seed=42)"
   ]
  },
  {
   "cell_type": "code",
   "execution_count": null,
   "metadata": {
    "colab": {
     "base_uri": "https://localhost:8080/"
    },
    "id": "sV6GdS_oAIo_",
    "outputId": "af39d233-0a35-4bce-e87b-5db427f4b68e"
   },
   "outputs": [
    {
     "data": {
      "text/plain": [
       "DatasetDict({\n",
       "    train: Dataset({\n",
       "        features: ['id', 'translation'],\n",
       "        num_rows: 78814\n",
       "    })\n",
       "    test: Dataset({\n",
       "        features: ['id', 'translation'],\n",
       "        num_rows: 26272\n",
       "    })\n",
       "})"
      ]
     },
     "execution_count": 4,
     "metadata": {},
     "output_type": "execute_result"
    }
   ],
   "source": [
    "split"
   ]
  },
  {
   "cell_type": "code",
   "execution_count": null,
   "metadata": {
    "colab": {
     "base_uri": "https://localhost:8080/"
    },
    "id": "Rmuki3uMALja",
    "outputId": "fc559e72-ae35-4425-97e2-5902a5f8628f"
   },
   "outputs": [
    {
     "data": {
      "text/plain": [
       "{'id': '184719',\n",
       " 'translation': {'en': 'This location is already defined. Do you want to replace the existing one?',\n",
       "  'fr': 'Cet emplacement est déjà défini. Voulez -vous remplacer celui qui était défini précédemment & #160;?'}}"
      ]
     },
     "execution_count": 5,
     "metadata": {},
     "output_type": "execute_result"
    }
   ],
   "source": [
    "split[\"train\"][0]"
   ]
  },
  {
   "cell_type": "code",
   "execution_count": null,
   "metadata": {
    "colab": {
     "base_uri": "https://localhost:8080/",
     "height": 281,
     "referenced_widgets": [
      "55ed126461d5441bb87cfbf5586a684e",
      "c30bc2a12fee4198be1c42ac1aab434f",
      "7ad242debb7c414fa972c08d520df63a",
      "d3fdfce3359c403fb51ea3fc0c49542f",
      "4ef09a8b991646669a5f5339e609c77d",
      "ce2b07319d754d6c84f908f36afddc99",
      "3f078aa69b564d2cba108d1f5ba82e68",
      "b946d9ab1de5473093cfa119c5c23095",
      "a69fb8c513214313a06005c1577b2870",
      "dbb20bace4544c63ab60043d9d18cbd0",
      "e928bc97026c47d7ba1e9a1bdf81f2c3",
      "179dcb2cae3d4a869fff30f851a5f115",
      "3373e3909e354fc5b7bccc3741d6a079",
      "4ac86047f80e47a3b177d2a5e41a6fe5",
      "bbd2848b68a44497810c86e877823bff",
      "69d9e6945dcd4b7a93530d421a1dca93",
      "9b3f499aaf944179abeafbdd7adb8486",
      "9597d18648064a66ab2aa9a1581db141",
      "ff62c4adab3c4d7f9eccebea21668069",
      "18b577a9c11342e68235bb760a753126",
      "6a1d1b5d14094ca1b3c3e0bad4d88138",
      "f3ff2ea3900c4782bcf21100e808cf20",
      "e311b03813b9454491e32a1c72250698",
      "638b615398f841d2ac5f81793cfa6675",
      "d13d9338489143c3bcecdb14a790e87b",
      "1251f4f756fa409ba9798fcf54981c5f",
      "6f4db8925ea8490cb65e49af2f0e0388",
      "4abd1c17e39842c9bb07344b9c5ca583",
      "787a4e8787a04678a7686d8817c47a3c",
      "50aa9e9dcbfe43f184757b731a4f54de",
      "1a9581bd311f4c77bd3c1c33f399ed1a",
      "6cfeb38bfd4c47d386990d35122c5426",
      "01d76bb5b9424b41a92cdd1bb753ad09",
      "0409236daccf47129a4fadc87c741cb3",
      "95f6c4914509412f97df551834dea476",
      "e67f51d316c448a3a491c8c8adbb48fe",
      "2476708cd6844e5299e49c66db71faf6",
      "6f6d275c4cb843a29e7b73802430c7c4",
      "0c3cbdcc640a47f5a7a4704638b66ad4",
      "06c8744498c748ca9dc7e219af7312c1",
      "0d8b5f65e33d49e8b0ac3c72a927f869",
      "2a81ed63666a46be9098b56886ca4ca5",
      "6ec56a8480bc452a9c6a121cbdef8c1b",
      "7b87a4bf09ba41c0982f25d2f1d6ec8c",
      "75893259a8d64c3290e65b9966f7da77",
      "42261a6eebf048408a3ec67616b5d4d5",
      "003774c39efc4390a7b204b177e6febf",
      "feab8816c33844838d5a9684c40a4ac0",
      "53908573f4494fc6af18ef48b691f183",
      "f275885c317b498fa2e33701da614951",
      "f038b02d351449f7bc5df71f8a95e24f",
      "f687af5717924503be07e81efae9f295",
      "c92ccd5e8a734412b84ea0086fc803ea",
      "751bac542a2147da956633c92cff7f29",
      "d071a2f35b2b41afa7eba12fb5779ea5",
      "90dbf9cb30e44eba9e09b54fd854c52c",
      "4996ce4287274c9389de27873d60236a",
      "b9710a1ea7e5491e879e7477dd3eac9b",
      "8a48219b37184fd18e1f5cac553d4244",
      "930990d3dceb4e129bd818ad5c9b8e76",
      "9abb492f47754bea8e338c4d2b8ceabd",
      "e463056917d84acb99da1c8c8a6c00b3",
      "e27733896804472fb7ef0752510592e8",
      "b38fd3a0447e4554abba0b26c5f2a707",
      "7e39e8bbc2044149a3c23a90899d43df",
      "905a112e5d674776b3dc3760871519a2"
     ]
    },
    "id": "-LI44Mh_ASc0",
    "outputId": "164f7864-dc96-408c-aa10-9a6d6009ef4d"
   },
   "outputs": [
    {
     "name": "stderr",
     "output_type": "stream",
     "text": [
      "The cache for model files in Transformers v4.22.0 has been updated. Migrating your old cache. This is a one-time only operation. You can interrupt this and resume the migration later on by calling `transformers.utils.move_cache()`.\n"
     ]
    },
    {
     "data": {
      "application/vnd.jupyter.widget-view+json": {
       "model_id": "55ed126461d5441bb87cfbf5586a684e",
       "version_major": 2,
       "version_minor": 0
      },
      "text/plain": [
       "0it [00:00, ?it/s]"
      ]
     },
     "metadata": {},
     "output_type": "display_data"
    },
    {
     "data": {
      "application/vnd.jupyter.widget-view+json": {
       "model_id": "179dcb2cae3d4a869fff30f851a5f115",
       "version_major": 2,
       "version_minor": 0
      },
      "text/plain": [
       "tokenizer_config.json:   0%|          | 0.00/42.0 [00:00<?, ?B/s]"
      ]
     },
     "metadata": {},
     "output_type": "display_data"
    },
    {
     "data": {
      "application/vnd.jupyter.widget-view+json": {
       "model_id": "e311b03813b9454491e32a1c72250698",
       "version_major": 2,
       "version_minor": 0
      },
      "text/plain": [
       "config.json:   0%|          | 0.00/1.42k [00:00<?, ?B/s]"
      ]
     },
     "metadata": {},
     "output_type": "display_data"
    },
    {
     "data": {
      "application/vnd.jupyter.widget-view+json": {
       "model_id": "0409236daccf47129a4fadc87c741cb3",
       "version_major": 2,
       "version_minor": 0
      },
      "text/plain": [
       "source.spm:   0%|          | 0.00/778k [00:00<?, ?B/s]"
      ]
     },
     "metadata": {},
     "output_type": "display_data"
    },
    {
     "data": {
      "application/vnd.jupyter.widget-view+json": {
       "model_id": "75893259a8d64c3290e65b9966f7da77",
       "version_major": 2,
       "version_minor": 0
      },
      "text/plain": [
       "target.spm:   0%|          | 0.00/802k [00:00<?, ?B/s]"
      ]
     },
     "metadata": {},
     "output_type": "display_data"
    },
    {
     "data": {
      "application/vnd.jupyter.widget-view+json": {
       "model_id": "90dbf9cb30e44eba9e09b54fd854c52c",
       "version_major": 2,
       "version_minor": 0
      },
      "text/plain": [
       "vocab.json:   0%|          | 0.00/1.34M [00:00<?, ?B/s]"
      ]
     },
     "metadata": {},
     "output_type": "display_data"
    },
    {
     "name": "stderr",
     "output_type": "stream",
     "text": [
      "/usr/local/lib/python3.11/dist-packages/transformers/models/marian/tokenization_marian.py:175: UserWarning: Recommended: pip install sacremoses.\n",
      "  warnings.warn(\"Recommended: pip install sacremoses.\")\n"
     ]
    }
   ],
   "source": [
    "from transformers import AutoTokenizer\n",
    "checkpoint = \"Helsinki-NLP/opus-mt-en-fr\"\n",
    "tokenizer = AutoTokenizer.from_pretrained(checkpoint)"
   ]
  },
  {
   "cell_type": "code",
   "execution_count": null,
   "metadata": {
    "colab": {
     "base_uri": "https://localhost:8080/"
    },
    "id": "8CIMkeomA1dh",
    "outputId": "5d919001-c817-421a-ace9-981e42ec26b9"
   },
   "outputs": [
    {
     "data": {
      "text/plain": [
       "('Error in opening output file', \"Erreur d'ouverture du fichier de sortie\")"
      ]
     },
     "execution_count": 7,
     "metadata": {},
     "output_type": "execute_result"
    }
   ],
   "source": [
    "en=split[\"train\"][10][\"translation\"][\"en\"]\n",
    "fr=split[\"train\"][10][\"translation\"][\"fr\"]\n",
    "en, fr"
   ]
  },
  {
   "cell_type": "code",
   "execution_count": null,
   "metadata": {
    "colab": {
     "base_uri": "https://localhost:8080/"
    },
    "id": "vvKJrH3VBKg5",
    "outputId": "65924f28-1a32-40f9-ba89-1314151c752b"
   },
   "outputs": [
    {
     "data": {
      "text/plain": [
       "{'input_ids': [26088, 18, 4295, 8033, 1437, 0], 'attention_mask': [1, 1, 1, 1, 1, 1]}"
      ]
     },
     "execution_count": 8,
     "metadata": {},
     "output_type": "execute_result"
    }
   ],
   "source": [
    "inputs = tokenizer(en)\n",
    "inputs"
   ]
  },
  {
   "cell_type": "code",
   "execution_count": null,
   "metadata": {
    "colab": {
     "base_uri": "https://localhost:8080/"
    },
    "id": "aCbnKslvBfVP",
    "outputId": "991020a7-bcd5-4e7b-b4f4-fd8119960f5b"
   },
   "outputs": [
    {
     "name": "stderr",
     "output_type": "stream",
     "text": [
      "/usr/local/lib/python3.11/dist-packages/transformers/tokenization_utils_base.py:3961: UserWarning: `as_target_tokenizer` is deprecated and will be removed in v5 of Transformers. You can tokenize your labels by using the argument `text_target` of the regular `__call__` method (either in the same call as your input texts if you use the same keyword arguments, or in a separate call.\n",
      "  warnings.warn(\n"
     ]
    },
    {
     "data": {
      "text/plain": [
       "{'input_ids': [34023, 20, 6, 4261, 22, 2428, 5, 5607, 0], 'attention_mask': [1, 1, 1, 1, 1, 1, 1, 1, 1]}"
      ]
     },
     "execution_count": 9,
     "metadata": {},
     "output_type": "execute_result"
    }
   ],
   "source": [
    "# tokenize target sentence\n",
    "with tokenizer.as_target_tokenizer():\n",
    "  targets = tokenizer(fr)\n",
    "\n",
    "targets\n"
   ]
  },
  {
   "cell_type": "code",
   "execution_count": null,
   "metadata": {
    "colab": {
     "base_uri": "https://localhost:8080/"
    },
    "id": "9N2jES2tBwTI",
    "outputId": "849397f5-d025-4d39-93b2-d0ead4cee696"
   },
   "outputs": [
    {
     "data": {
      "text/plain": [
       "['▁Erreur',\n",
       " '▁d',\n",
       " \"'\",\n",
       " 'ouverture',\n",
       " '▁du',\n",
       " '▁fichier',\n",
       " '▁de',\n",
       " '▁sortie',\n",
       " '</s>']"
      ]
     },
     "execution_count": 10,
     "metadata": {},
     "output_type": "execute_result"
    }
   ],
   "source": [
    "tokenizer.convert_ids_to_tokens(targets[\"input_ids\"])"
   ]
  },
  {
   "cell_type": "code",
   "execution_count": null,
   "metadata": {
    "colab": {
     "base_uri": "https://localhost:8080/",
     "height": 696
    },
    "id": "87yBLYReCJ0T",
    "outputId": "4229079a-d45e-433b-ca91-55498a8d0328"
   },
   "outputs": [
    {
     "data": {
      "image/png": "[encoded data removed]",
      "text/plain": [
       "<Figure size 1600x800 with 1 Axes>"
      ]
     },
     "metadata": {},
     "output_type": "display_data"
    }
   ],
   "source": [
    "import matplotlib.pyplot as plt\n",
    "train = split[\"train\"][\"translation\"]\n",
    "input_lens = [len(tr[\"en\"]) for tr  in train]\n",
    "\n",
    "plt.figure(figsize=(16,8))\n",
    "plt.hist(input_lens, bins=50, edgecolor=\"black\")\n",
    "plt.xlabel(\"Input length\")\n",
    "plt.ylabel(\"No of Sentences\")\n",
    "plt.show()\n"
   ]
  },
  {
   "cell_type": "code",
   "execution_count": null,
   "metadata": {
    "colab": {
     "base_uri": "https://localhost:8080/",
     "height": 696
    },
    "id": "gkUdTxNmDJru",
    "outputId": "2f04cee1-f6a9-46e2-f4d4-9fd13bd267ee"
   },
   "outputs": [
    {
     "data": {
      "image/png": "[encoded data removed]",
      "text/plain": [
       "<Figure size 1600x800 with 1 Axes>"
      ]
     },
     "metadata": {},
     "output_type": "display_data"
    }
   ],
   "source": [
    "target_lens = [len(te[\"fr\"]) for te in train]\n",
    "\n",
    "plt.figure(figsize=(16,8))\n",
    "plt.hist(target_lens, bins=50, edgecolor=\"black\", color=\"forestgreen\")\n",
    "plt.xlabel(\"Target length\")\n",
    "plt.ylabel(\"No of Sentences\")\n",
    "plt.show()\n"
   ]
  },
  {
   "cell_type": "code",
   "execution_count": null,
   "metadata": {
    "id": "wT3iAh7bD00s"
   },
   "outputs": [],
   "source": [
    "# create tokenizer function\n",
    "max_input_len = 256\n",
    "max_target_len = 256\n",
    "\n",
    "def tokenizer_fn(batch):\n",
    "  inputs= [x[\"en\"] for x in batch[\"translation\"]]\n",
    "  targets= [x[\"fr\"] for x in batch[\"translation\"]]\n",
    "\n",
    "  tokenized_inputs= tokenizer(\n",
    "      inputs,\n",
    "      max_length = max_input_len,\n",
    "      truncation = True\n",
    "  )\n",
    "  with tokenizer.as_target_tokenizer():\n",
    "    tokenized_targets= tokenizer(\n",
    "        targets,\n",
    "        max_length = max_target_len,\n",
    "        truncation = True\n",
    "    )\n",
    "\n",
    "    tokenized_inputs[\"labels\"] = tokenized_targets[\"input_ids\"]\n",
    "\n",
    "    return tokenized_inputs\n"
   ]
  },
  {
   "cell_type": "code",
   "execution_count": null,
   "metadata": {
    "colab": {
     "base_uri": "https://localhost:8080/",
     "height": 81,
     "referenced_widgets": [
      "3690c20ade7941939e3819772f31d051",
      "ef940db6e59d47998884bd0dd1d9510e",
      "13c5fc19b4cd4f08b1fdd790dcf2a9c5",
      "a7dc1100dff34f4eb6e5d88b49686deb",
      "5e5e1a0b0b1b441b9db0d9525946e2b5",
      "5ef8ddce2f964223bb11217680858029",
      "52966652299041199580f73098a0a533",
      "469a988a0f3548a0bd9f64cdd4afb510",
      "b396f33e08d1432f89ffd493fc800da3",
      "07292dc6f08a4706a7475171edc31992",
      "5b84b019b8ed483b9c118ea4dcb38aee",
      "12376f4fe79441edac519d1233c857e2",
      "cd7ce633290443918cdceab2831531df",
      "94ef975be73849ed8933294f1ad5391b",
      "c4e950a945ca4387890601e93087cca6",
      "27b98006697147abba6a5bc400a2487d",
      "4b77c165b6ed4516ae9b9a89da9cfe5f",
      "f50007ec55704050b09b5baac4eb9b7d",
      "5d3203371f8c49ea938082e8ba6618ac",
      "aebe34749d3b4521a63f01b906071ecc",
      "b82f7edc8fce46a7a26f4bfcc112e3a1",
      "309158d213e34ebdbb6431c1905fa904"
     ]
    },
    "id": "2qbx2ultGDJu",
    "outputId": "0db4c946-9b7c-458b-c7d0-f4f23c7eebd0"
   },
   "outputs": [
    {
     "data": {
      "application/vnd.jupyter.widget-view+json": {
       "model_id": "3690c20ade7941939e3819772f31d051",
       "version_major": 2,
       "version_minor": 0
      },
      "text/plain": [
       "Map:   0%|          | 0/78814 [00:00<?, ? examples/s]"
      ]
     },
     "metadata": {},
     "output_type": "display_data"
    },
    {
     "data": {
      "application/vnd.jupyter.widget-view+json": {
       "model_id": "12376f4fe79441edac519d1233c857e2",
       "version_major": 2,
       "version_minor": 0
      },
      "text/plain": [
       "Map:   0%|          | 0/26272 [00:00<?, ? examples/s]"
      ]
     },
     "metadata": {},
     "output_type": "display_data"
    }
   ],
   "source": [
    "# storing tokenized data\n",
    "tokenized_datasets = split.map(\n",
    "    tokenizer_fn,\n",
    "    batched = True,\n",
    "    remove_columns = split[\"train\"].column_names,\n",
    "\n",
    ")"
   ]
  },
  {
   "cell_type": "code",
   "execution_count": null,
   "metadata": {
    "colab": {
     "base_uri": "https://localhost:8080/"
    },
    "id": "vbVayTnrGhox",
    "outputId": "bbed5604-46e8-4662-b470-2a6515e92579"
   },
   "outputs": [
    {
     "data": {
      "text/plain": [
       "DatasetDict({\n",
       "    train: Dataset({\n",
       "        features: ['input_ids', 'attention_mask', 'labels'],\n",
       "        num_rows: 78814\n",
       "    })\n",
       "    test: Dataset({\n",
       "        features: ['input_ids', 'attention_mask', 'labels'],\n",
       "        num_rows: 26272\n",
       "    })\n",
       "})"
      ]
     },
     "execution_count": 15,
     "metadata": {},
     "output_type": "execute_result"
    }
   ],
   "source": [
    "# view tokenized dataset\n",
    "tokenized_datasets"
   ]
  },
  {
   "cell_type": "code",
   "execution_count": null,
   "metadata": {
    "colab": {
     "base_uri": "https://localhost:8080/",
     "height": 113,
     "referenced_widgets": [
      "2deb4208f87743d0b3828b8272ef3fa5",
      "3d50dcae3f73469bb6c0c369934fd4dc",
      "e56971f8134f43d8852d0d85a45847df",
      "4079a40fb379454e9df2f64762dced5a",
      "10339826d9004d49aaa554565ce537ec",
      "68c38817a5694c5aa3af8b4ac19be717",
      "721933b3104245448baf7c370d6cf468",
      "c183f557ef6b422a95a0fdc05a28f3ee",
      "0779f842da364208850a87b0d7819710",
      "79ad06625bcb47ecb0fce1de543818b6",
      "10de047eceef4de995c6c06f07d9cdca",
      "302ec293e0114e9d9d2891ab902c993f",
      "edc56902f70c409da9d45ddde42d61b3",
      "134b8620e60840e0ba6a5953b9fa14b7",
      "ef0487c33cc9465fb921dcd5da52698d",
      "e615004c54334da9ab8a7b7aefd4beb8",
      "d71969449f0744178c6429e4348c5b42",
      "d3338f1e337e455e811385b5687038c7",
      "48842b17c7514755950adbaf45a6cf22",
      "95c86a656d584e129a0d08c6d967107a",
      "3882e639486c46268c5a95a0c12b6c6f",
      "f99450e031514703ae44e760be8d5592",
      "0f65ca9ee3d447858bee59b566e17c5c",
      "44a9deb619154c6eb55a100c00d9b1bf",
      "d574f5fc813c4896843e7ccbf432d5b6",
      "765feac3915b4a8faf644df42f9022a6",
      "1cb2be844282455d9e88cb51461b0c16",
      "5d1c8d14e9db49cda2bf44188e1cd0eb",
      "67e5d985ecc440e9a8441c0d2c430a6e",
      "4510c13955e84a17b3a532cf12a025bf",
      "bc50778e039b429cb8975099bdee939a",
      "d926068e588640b9a2ee4d7fc387e48e",
      "3350b2f8b31a4800864ad42292638db1"
     ]
    },
    "id": "H60taWZMGw_l",
    "outputId": "5f0fde19-7084-409d-b17e-5e463fe3faa6"
   },
   "outputs": [
    {
     "data": {
      "application/vnd.jupyter.widget-view+json": {
       "model_id": "2deb4208f87743d0b3828b8272ef3fa5",
       "version_major": 2,
       "version_minor": 0
      },
      "text/plain": [
       "pytorch_model.bin:   0%|          | 0.00/301M [00:00<?, ?B/s]"
      ]
     },
     "metadata": {},
     "output_type": "display_data"
    },
    {
     "data": {
      "application/vnd.jupyter.widget-view+json": {
       "model_id": "302ec293e0114e9d9d2891ab902c993f",
       "version_major": 2,
       "version_minor": 0
      },
      "text/plain": [
       "model.safetensors:   0%|          | 0.00/301M [00:00<?, ?B/s]"
      ]
     },
     "metadata": {},
     "output_type": "display_data"
    },
    {
     "data": {
      "application/vnd.jupyter.widget-view+json": {
       "model_id": "0f65ca9ee3d447858bee59b566e17c5c",
       "version_major": 2,
       "version_minor": 0
      },
      "text/plain": [
       "generation_config.json:   0%|          | 0.00/293 [00:00<?, ?B/s]"
      ]
     },
     "metadata": {},
     "output_type": "display_data"
    }
   ],
   "source": [
    "# creating seq2seq transformer model\n",
    "from transformers import AutoModelForSeq2SeqLM\n",
    "model = AutoModelForSeq2SeqLM.from_pretrained(checkpoint)"
   ]
  },
  {
   "cell_type": "code",
   "execution_count": null,
   "metadata": {
    "id": "V7nGcUawHTZA"
   },
   "outputs": [],
   "source": [
    "# using datacollator for padding and converting into torch tensor\n",
    "from transformers import DataCollatorForSeq2Seq\n",
    "data_collator = DataCollatorForSeq2Seq(tokenizer, model=model)\n"
   ]
  },
  {
   "cell_type": "code",
   "execution_count": null,
   "metadata": {
    "colab": {
     "base_uri": "https://localhost:8080/",
     "height": 34
    },
    "id": "YJmufcZZH4dE",
    "outputId": "2a8a6c44-a236-4af1-d07c-a89d1b76239f"
   },
   "outputs": [
    {
     "data": {
      "text/plain": [
       "dict_keys(['input_ids', 'attention_mask', 'labels', 'decoder_input_ids'])"
      ]
     },
     "execution_count": 18,
     "metadata": {},
     "output_type": "execute_result"
    }
   ],
   "source": [
    "batch = data_collator([tokenized_datasets[\"train\"][i] for i in range(1,3)])\n",
    "batch.keys()"
   ]
  },
  {
   "cell_type": "code",
   "execution_count": null,
   "metadata": {
    "colab": {
     "base_uri": "https://localhost:8080/"
    },
    "id": "_uIu2AAkIMn3",
    "outputId": "703a3cad-697e-4431-edf8-afa7ae587b34"
   },
   "outputs": [
    {
     "data": {
      "text/plain": [
       "tensor([[33261,    16,  2316, 21258,  1817,     9,     0,  -100,  -100,  -100,\n",
       "          -100,  -100,  -100,  -100,  -100,  -100,  -100,  -100,  -100,  -100,\n",
       "          -100,  -100,  -100],\n",
       "        [15479,    16,  3521,    17,   370,     5,     8,   421,     5,   372,\n",
       "         12647,  1071,   634,  1150,   137,     6,    82,  6941,  9177,     9,\n",
       "             9,  1819,     0]])"
      ]
     },
     "execution_count": 19,
     "metadata": {},
     "output_type": "execute_result"
    }
   ],
   "source": [
    "batch['labels']"
   ]
  },
  {
   "cell_type": "code",
   "execution_count": null,
   "metadata": {
    "colab": {
     "base_uri": "https://localhost:8080/"
    },
    "id": "IxX24px1IPto",
    "outputId": "0ba8e5b8-a650-403f-cf90-53b9c9d4f21d"
   },
   "outputs": [
    {
     "name": "stdout",
     "output_type": "stream",
     "text": [
      "<class 'torch.Tensor'>\n"
     ]
    }
   ],
   "source": [
    "print(type(batch[\"labels\"]))"
   ]
  },
  {
   "cell_type": "code",
   "execution_count": null,
   "metadata": {
    "colab": {
     "base_uri": "https://localhost:8080/"
    },
    "id": "VKaRXKTCJWqN",
    "outputId": "ec5a201b-e5c2-4b74-b2e6-ff0714d95f18"
   },
   "outputs": [
    {
     "data": {
      "text/plain": [
       "tensor([[59513, 33261,    16,  2316, 21258,  1817,     9,     0, 59513, 59513,\n",
       "         59513, 59513, 59513, 59513, 59513, 59513, 59513, 59513, 59513, 59513,\n",
       "         59513, 59513, 59513],\n",
       "        [59513, 15479,    16,  3521,    17,   370,     5,     8,   421,     5,\n",
       "           372, 12647,  1071,   634,  1150,   137,     6,    82,  6941,  9177,\n",
       "             9,     9,  1819]])"
      ]
     },
     "execution_count": 21,
     "metadata": {},
     "output_type": "execute_result"
    }
   ],
   "source": [
    "batch[\"decoder_input_ids\"]"
   ]
  },
  {
   "cell_type": "code",
   "execution_count": null,
   "metadata": {
    "colab": {
     "base_uri": "https://localhost:8080/"
    },
    "id": "n0wug87fJgH2",
    "outputId": "89b63102-5684-4022-f498-29e2320bfb4f"
   },
   "outputs": [
    {
     "name": "stdout",
     "output_type": "stream",
     "text": [
      "<class 'torch.Tensor'>\n"
     ]
    }
   ],
   "source": [
    "print(type(batch[\"decoder_input_ids\"]))"
   ]
  },
  {
   "cell_type": "code",
   "execution_count": null,
   "metadata": {
    "colab": {
     "base_uri": "https://localhost:8080/"
    },
    "id": "6O-xOie8JqDH",
    "outputId": "2b0d8f92-8707-4ad3-a3e5-9373021ff8f3"
   },
   "outputs": [
    {
     "data": {
      "text/plain": [
       "['<pad>',\n",
       " '▁Affiche',\n",
       " '▁les',\n",
       " '▁structures',\n",
       " '▁cristal',\n",
       " 'line',\n",
       " 's',\n",
       " '</s>',\n",
       " '<pad>',\n",
       " '<pad>',\n",
       " '<pad>',\n",
       " '<pad>',\n",
       " '<pad>',\n",
       " '<pad>',\n",
       " '<pad>',\n",
       " '<pad>',\n",
       " '<pad>',\n",
       " '<pad>',\n",
       " '<pad>',\n",
       " '<pad>',\n",
       " '<pad>',\n",
       " '<pad>',\n",
       " '<pad>']"
      ]
     },
     "execution_count": 23,
     "metadata": {},
     "output_type": "execute_result"
    }
   ],
   "source": [
    "tokenizer.convert_ids_to_tokens(batch[\"decoder_input_ids\"][0])"
   ]
  },
  {
   "cell_type": "code",
   "execution_count": null,
   "metadata": {
    "colab": {
     "base_uri": "https://localhost:8080/"
    },
    "id": "e3DYhDMEJ0h5",
    "outputId": "8fc6ad26-5ae6-412f-c92b-f1503a8cc3c9"
   },
   "outputs": [
    {
     "data": {
      "text/plain": [
       "['▁Affiche',\n",
       " '▁les',\n",
       " '▁structures',\n",
       " '▁cristal',\n",
       " 'line',\n",
       " 's',\n",
       " '</s>',\n",
       " '<unk>',\n",
       " '<unk>',\n",
       " '<unk>',\n",
       " '<unk>',\n",
       " '<unk>',\n",
       " '<unk>',\n",
       " '<unk>',\n",
       " '<unk>',\n",
       " '<unk>',\n",
       " '<unk>',\n",
       " '<unk>',\n",
       " '<unk>',\n",
       " '<unk>',\n",
       " '<unk>',\n",
       " '<unk>',\n",
       " '<unk>']"
      ]
     },
     "execution_count": 24,
     "metadata": {},
     "output_type": "execute_result"
    }
   ],
   "source": [
    "tokenizer.convert_ids_to_tokens(batch[\"labels\"][0])\n"
   ]
  },
  {
   "cell_type": "code",
   "execution_count": null,
   "metadata": {
    "colab": {
     "base_uri": "https://localhost:8080/"
    },
    "id": "TsvIe9C9KBWu",
    "outputId": "cf318bb1-29ed-4615-8555-6ffd3dfb9514"
   },
   "outputs": [
    {
     "data": {
      "text/plain": [
       "{'id': '21914',\n",
       " 'translation': {'en': 'Weight', 'fr': 'Affiche les structures cristallines'}}"
      ]
     },
     "execution_count": 25,
     "metadata": {},
     "output_type": "execute_result"
    }
   ],
   "source": [
    "split[\"train\"][1]"
   ]
  },
  {
   "cell_type": "code",
   "execution_count": null,
   "metadata": {
    "colab": {
     "base_uri": "https://localhost:8080/"
    },
    "id": "roIxEV5PKGrM",
    "outputId": "b4b34749-ef6e-4339-f827-c26634189868"
   },
   "outputs": [
    {
     "name": "stdout",
     "output_type": "stream",
     "text": [
      "Collecting sacrebleu\n",
      "  Downloading sacrebleu-2.5.1-py3-none-any.whl.metadata (51 kB)\n",
      "\u001b[?25l     \u001b[90m━━━━━━━━━━━━━━━━━━━━━━━━━━━━━━━━━━━━━━━━\u001b[0m \u001b[32m0.0/51.8 kB\u001b[0m \u001b[31m?\u001b[0m eta \u001b[36m-:--:--\u001b[0m\r",
      "\u001b[2K     \u001b[90m━━━━━━━━━━━━━━━━━━━━━━━━━━━━━━━━━━━━━━━━\u001b[0m \u001b[32m51.8/51.8 kB\u001b[0m \u001b[31m4.3 MB/s\u001b[0m eta \u001b[36m0:00:00\u001b[0m\n",
      "\u001b[?25hCollecting bert-score\n",
      "  Downloading bert_score-0.3.13-py3-none-any.whl.metadata (15 kB)\n",
      "Collecting portalocker (from sacrebleu)\n",
      "  Downloading portalocker-3.1.1-py3-none-any.whl.metadata (8.6 kB)\n",
      "Requirement already satisfied: regex in /usr/local/lib/python3.11/dist-packages (from sacrebleu) (2024.11.6)\n",
      "Requirement already satisfied: tabulate>=0.8.9 in /usr/local/lib/python3.11/dist-packages (from sacrebleu) (0.9.0)\n",
      "Requirement already satisfied: numpy>=1.17 in /usr/local/lib/python3.11/dist-packages (from sacrebleu) (1.26.4)\n",
      "Collecting colorama (from sacrebleu)\n",
      "  Downloading colorama-0.4.6-py2.py3-none-any.whl.metadata (17 kB)\n",
      "Requirement already satisfied: lxml in /usr/local/lib/python3.11/dist-packages (from sacrebleu) (5.3.1)\n",
      "Requirement already satisfied: torch>=1.0.0 in /usr/local/lib/python3.11/dist-packages (from bert-score) (2.5.1+cu124)\n",
      "Requirement already satisfied: pandas>=1.0.1 in /usr/local/lib/python3.11/dist-packages (from bert-score) (2.2.2)\n",
      "Requirement already satisfied: transformers>=3.0.0 in /usr/local/lib/python3.11/dist-packages (from bert-score) (4.48.3)\n",
      "Requirement already satisfied: requests in /usr/local/lib/python3.11/dist-packages (from bert-score) (2.32.3)\n",
      "Requirement already satisfied: tqdm>=4.31.1 in /usr/local/lib/python3.11/dist-packages (from bert-score) (4.67.1)\n",
      "Requirement already satisfied: matplotlib in /usr/local/lib/python3.11/dist-packages (from bert-score) (3.10.0)\n",
      "Requirement already satisfied: packaging>=20.9 in /usr/local/lib/python3.11/dist-packages (from bert-score) (24.2)\n",
      "Requirement already satisfied: python-dateutil>=2.8.2 in /usr/local/lib/python3.11/dist-packages (from pandas>=1.0.1->bert-score) (2.8.2)\n",
      "Requirement already satisfied: pytz>=2020.1 in /usr/local/lib/python3.11/dist-packages (from pandas>=1.0.1->bert-score) (2025.1)\n",
      "Requirement already satisfied: tzdata>=2022.7 in /usr/local/lib/python3.11/dist-packages (from pandas>=1.0.1->bert-score) (2025.1)\n",
      "Requirement already satisfied: filelock in /usr/local/lib/python3.11/dist-packages (from torch>=1.0.0->bert-score) (3.17.0)\n",
      "Requirement already satisfied: typing-extensions>=4.8.0 in /usr/local/lib/python3.11/dist-packages (from torch>=1.0.0->bert-score) (4.12.2)\n",
      "Requirement already satisfied: networkx in /usr/local/lib/python3.11/dist-packages (from torch>=1.0.0->bert-score) (3.4.2)\n",
      "Requirement already satisfied: jinja2 in /usr/local/lib/python3.11/dist-packages (from torch>=1.0.0->bert-score) (3.1.5)\n",
      "Requirement already satisfied: fsspec in /usr/local/lib/python3.11/dist-packages (from torch>=1.0.0->bert-score) (2024.10.0)\n",
      "Collecting nvidia-cuda-nvrtc-cu12==12.4.127 (from torch>=1.0.0->bert-score)\n",
      "  Downloading nvidia_cuda_nvrtc_cu12-12.4.127-py3-none-manylinux2014_x86_64.whl.metadata (1.5 kB)\n",
      "Collecting nvidia-cuda-runtime-cu12==12.4.127 (from torch>=1.0.0->bert-score)\n",
      "  Downloading nvidia_cuda_runtime_cu12-12.4.127-py3-none-manylinux2014_x86_64.whl.metadata (1.5 kB)\n",
      "Collecting nvidia-cuda-cupti-cu12==12.4.127 (from torch>=1.0.0->bert-score)\n",
      "  Downloading nvidia_cuda_cupti_cu12-12.4.127-py3-none-manylinux2014_x86_64.whl.metadata (1.6 kB)\n",
      "Collecting nvidia-cudnn-cu12==9.1.0.70 (from torch>=1.0.0->bert-score)\n",
      "  Downloading nvidia_cudnn_cu12-9.1.0.70-py3-none-manylinux2014_x86_64.whl.metadata (1.6 kB)\n",
      "Collecting nvidia-cublas-cu12==12.4.5.8 (from torch>=1.0.0->bert-score)\n",
      "  Downloading nvidia_cublas_cu12-12.4.5.8-py3-none-manylinux2014_x86_64.whl.metadata (1.5 kB)\n",
      "Collecting nvidia-cufft-cu12==11.2.1.3 (from torch>=1.0.0->bert-score)\n",
      "  Downloading nvidia_cufft_cu12-11.2.1.3-py3-none-manylinux2014_x86_64.whl.metadata (1.5 kB)\n",
      "Collecting nvidia-curand-cu12==10.3.5.147 (from torch>=1.0.0->bert-score)\n",
      "  Downloading nvidia_curand_cu12-10.3.5.147-py3-none-manylinux2014_x86_64.whl.metadata (1.5 kB)\n",
      "Collecting nvidia-cusolver-cu12==11.6.1.9 (from torch>=1.0.0->bert-score)\n",
      "  Downloading nvidia_cusolver_cu12-11.6.1.9-py3-none-manylinux2014_x86_64.whl.metadata (1.6 kB)\n",
      "Collecting nvidia-cusparse-cu12==12.3.1.170 (from torch>=1.0.0->bert-score)\n",
      "  Downloading nvidia_cusparse_cu12-12.3.1.170-py3-none-manylinux2014_x86_64.whl.metadata (1.6 kB)\n",
      "Requirement already satisfied: nvidia-nccl-cu12==2.21.5 in /usr/local/lib/python3.11/dist-packages (from torch>=1.0.0->bert-score) (2.21.5)\n",
      "Requirement already satisfied: nvidia-nvtx-cu12==12.4.127 in /usr/local/lib/python3.11/dist-packages (from torch>=1.0.0->bert-score) (12.4.127)\n",
      "Collecting nvidia-nvjitlink-cu12==12.4.127 (from torch>=1.0.0->bert-score)\n",
      "  Downloading nvidia_nvjitlink_cu12-12.4.127-py3-none-manylinux2014_x86_64.whl.metadata (1.5 kB)\n",
      "Requirement already satisfied: triton==3.1.0 in /usr/local/lib/python3.11/dist-packages (from torch>=1.0.0->bert-score) (3.1.0)\n",
      "Requirement already satisfied: sympy==1.13.1 in /usr/local/lib/python3.11/dist-packages (from torch>=1.0.0->bert-score) (1.13.1)\n",
      "Requirement already satisfied: mpmath<1.4,>=1.1.0 in /usr/local/lib/python3.11/dist-packages (from sympy==1.13.1->torch>=1.0.0->bert-score) (1.3.0)\n",
      "Requirement already satisfied: huggingface-hub<1.0,>=0.24.0 in /usr/local/lib/python3.11/dist-packages (from transformers>=3.0.0->bert-score) (0.28.1)\n",
      "Requirement already satisfied: pyyaml>=5.1 in /usr/local/lib/python3.11/dist-packages (from transformers>=3.0.0->bert-score) (6.0.2)\n",
      "Requirement already satisfied: tokenizers<0.22,>=0.21 in /usr/local/lib/python3.11/dist-packages (from transformers>=3.0.0->bert-score) (0.21.0)\n",
      "Requirement already satisfied: safetensors>=0.4.1 in /usr/local/lib/python3.11/dist-packages (from transformers>=3.0.0->bert-score) (0.5.2)\n",
      "Requirement already satisfied: contourpy>=1.0.1 in /usr/local/lib/python3.11/dist-packages (from matplotlib->bert-score) (1.3.1)\n",
      "Requirement already satisfied: cycler>=0.10 in /usr/local/lib/python3.11/dist-packages (from matplotlib->bert-score) (0.12.1)\n",
      "Requirement already satisfied: fonttools>=4.22.0 in /usr/local/lib/python3.11/dist-packages (from matplotlib->bert-score) (4.56.0)\n",
      "Requirement already satisfied: kiwisolver>=1.3.1 in /usr/local/lib/python3.11/dist-packages (from matplotlib->bert-score) (1.4.8)\n",
      "Requirement already satisfied: pillow>=8 in /usr/local/lib/python3.11/dist-packages (from matplotlib->bert-score) (11.1.0)\n",
      "Requirement already satisfied: pyparsing>=2.3.1 in /usr/local/lib/python3.11/dist-packages (from matplotlib->bert-score) (3.2.1)\n",
      "Requirement already satisfied: charset-normalizer<4,>=2 in /usr/local/lib/python3.11/dist-packages (from requests->bert-score) (3.4.1)\n",
      "Requirement already satisfied: idna<4,>=2.5 in /usr/local/lib/python3.11/dist-packages (from requests->bert-score) (3.10)\n",
      "Requirement already satisfied: urllib3<3,>=1.21.1 in /usr/local/lib/python3.11/dist-packages (from requests->bert-score) (2.3.0)\n",
      "Requirement already satisfied: certifi>=2017.4.17 in /usr/local/lib/python3.11/dist-packages (from requests->bert-score) (2025.1.31)\n",
      "Requirement already satisfied: six>=1.5 in /usr/local/lib/python3.11/dist-packages (from python-dateutil>=2.8.2->pandas>=1.0.1->bert-score) (1.17.0)\n",
      "Requirement already satisfied: MarkupSafe>=2.0 in /usr/local/lib/python3.11/dist-packages (from jinja2->torch>=1.0.0->bert-score) (3.0.2)\n",
      "Downloading sacrebleu-2.5.1-py3-none-any.whl (104 kB)\n",
      "\u001b[2K   \u001b[90m━━━━━━━━━━━━━━━━━━━━━━━━━━━━━━━━━━━━━━━━\u001b[0m \u001b[32m104.1/104.1 kB\u001b[0m \u001b[31m8.9 MB/s\u001b[0m eta \u001b[36m0:00:00\u001b[0m\n",
      "\u001b[?25hDownloading bert_score-0.3.13-py3-none-any.whl (61 kB)\n",
      "\u001b[2K   \u001b[90m━━━━━━━━━━━━━━━━━━━━━━━━━━━━━━━━━━━━━━━━\u001b[0m \u001b[32m61.1/61.1 kB\u001b[0m \u001b[31m4.7 MB/s\u001b[0m eta \u001b[36m0:00:00\u001b[0m\n",
      "\u001b[?25hDownloading nvidia_cublas_cu12-12.4.5.8-py3-none-manylinux2014_x86_64.whl (363.4 MB)\n",
      "\u001b[2K   \u001b[90m━━━━━━━━━━━━━━━━━━━━━━━━━━━━━━━━━━━━━━━━\u001b[0m \u001b[32m363.4/363.4 MB\u001b[0m \u001b[31m1.2 MB/s\u001b[0m eta \u001b[36m0:00:00\u001b[0m\n",
      "\u001b[?25hDownloading nvidia_cuda_cupti_cu12-12.4.127-py3-none-manylinux2014_x86_64.whl (13.8 MB)\n",
      "\u001b[2K   \u001b[90m━━━━━━━━━━━━━━━━━━━━━━━━━━━━━━━━━━━━━━━━\u001b[0m \u001b[32m13.8/13.8 MB\u001b[0m \u001b[31m105.0 MB/s\u001b[0m eta \u001b[36m0:00:00\u001b[0m\n",
      "\u001b[?25hDownloading nvidia_cuda_nvrtc_cu12-12.4.127-py3-none-manylinux2014_x86_64.whl (24.6 MB)\n",
      "\u001b[2K   \u001b[90m━━━━━━━━━━━━━━━━━━━━━━━━━━━━━━━━━━━━━━━━\u001b[0m \u001b[32m24.6/24.6 MB\u001b[0m \u001b[31m85.6 MB/s\u001b[0m eta \u001b[36m0:00:00\u001b[0m\n",
      "\u001b[?25hDownloading nvidia_cuda_runtime_cu12-12.4.127-py3-none-manylinux2014_x86_64.whl (883 kB)\n",
      "\u001b[2K   \u001b[90m━━━━━━━━━━━━━━━━━━━━━━━━━━━━━━━━━━━━━━━━\u001b[0m \u001b[32m883.7/883.7 kB\u001b[0m \u001b[31m55.6 MB/s\u001b[0m eta \u001b[36m0:00:00\u001b[0m\n",
      "\u001b[?25hDownloading nvidia_cudnn_cu12-9.1.0.70-py3-none-manylinux2014_x86_64.whl (664.8 MB)\n",
      "\u001b[2K   \u001b[90m━━━━━━━━━━━━━━━━━━━━━━━━━━━━━━━━━━━━━━━━\u001b[0m \u001b[32m664.8/664.8 MB\u001b[0m \u001b[31m2.6 MB/s\u001b[0m eta \u001b[36m0:00:00\u001b[0m\n",
      "\u001b[?25hDownloading nvidia_cufft_cu12-11.2.1.3-py3-none-manylinux2014_x86_64.whl (211.5 MB)\n",
      "\u001b[2K   \u001b[90m━━━━━━━━━━━━━━━━━━━━━━━━━━━━━━━━━━━━━━━━\u001b[0m \u001b[32m211.5/211.5 MB\u001b[0m \u001b[31m5.6 MB/s\u001b[0m eta \u001b[36m0:00:00\u001b[0m\n",
      "\u001b[?25hDownloading nvidia_curand_cu12-10.3.5.147-py3-none-manylinux2014_x86_64.whl (56.3 MB)\n",
      "\u001b[2K   \u001b[90m━━━━━━━━━━━━━━━━━━━━━━━━━━━━━━━━━━━━━━━━\u001b[0m \u001b[32m56.3/56.3 MB\u001b[0m \u001b[31m11.2 MB/s\u001b[0m eta \u001b[36m0:00:00\u001b[0m\n",
      "\u001b[?25hDownloading nvidia_cusolver_cu12-11.6.1.9-py3-none-manylinux2014_x86_64.whl (127.9 MB)\n",
      "\u001b[2K   \u001b[90m━━━━━━━━━━━━━━━━━━━━━━━━━━━━━━━━━━━━━━━━\u001b[0m \u001b[32m127.9/127.9 MB\u001b[0m \u001b[31m8.6 MB/s\u001b[0m eta \u001b[36m0:00:00\u001b[0m\n",
      "\u001b[?25hDownloading nvidia_cusparse_cu12-12.3.1.170-py3-none-manylinux2014_x86_64.whl (207.5 MB)\n",
      "\u001b[2K   \u001b[90m━━━━━━━━━━━━━━━━━━━━━━━━━━━━━━━━━━━━━━━━\u001b[0m \u001b[32m207.5/207.5 MB\u001b[0m \u001b[31m6.4 MB/s\u001b[0m eta \u001b[36m0:00:00\u001b[0m\n",
      "\u001b[?25hDownloading nvidia_nvjitlink_cu12-12.4.127-py3-none-manylinux2014_x86_64.whl (21.1 MB)\n",
      "\u001b[2K   \u001b[90m━━━━━━━━━━━━━━━━━━━━━━━━━━━━━━━━━━━━━━━━\u001b[0m \u001b[32m21.1/21.1 MB\u001b[0m \u001b[31m31.2 MB/s\u001b[0m eta \u001b[36m0:00:00\u001b[0m\n",
      "\u001b[?25hDownloading colorama-0.4.6-py2.py3-none-any.whl (25 kB)\n",
      "Downloading portalocker-3.1.1-py3-none-any.whl (19 kB)\n",
      "Installing collected packages: portalocker, nvidia-nvjitlink-cu12, nvidia-curand-cu12, nvidia-cufft-cu12, nvidia-cuda-runtime-cu12, nvidia-cuda-nvrtc-cu12, nvidia-cuda-cupti-cu12, nvidia-cublas-cu12, colorama, sacrebleu, nvidia-cusparse-cu12, nvidia-cudnn-cu12, nvidia-cusolver-cu12, bert-score\n",
      "  Attempting uninstall: nvidia-nvjitlink-cu12\n",
      "    Found existing installation: nvidia-nvjitlink-cu12 12.5.82\n",
      "    Uninstalling nvidia-nvjitlink-cu12-12.5.82:\n",
      "      Successfully uninstalled nvidia-nvjitlink-cu12-12.5.82\n",
      "  Attempting uninstall: nvidia-curand-cu12\n",
      "    Found existing installation: nvidia-curand-cu12 10.3.6.82\n",
      "    Uninstalling nvidia-curand-cu12-10.3.6.82:\n",
      "      Successfully uninstalled nvidia-curand-cu12-10.3.6.82\n",
      "  Attempting uninstall: nvidia-cufft-cu12\n",
      "    Found existing installation: nvidia-cufft-cu12 11.2.3.61\n",
      "    Uninstalling nvidia-cufft-cu12-11.2.3.61:\n",
      "      Successfully uninstalled nvidia-cufft-cu12-11.2.3.61\n",
      "  Attempting uninstall: nvidia-cuda-runtime-cu12\n",
      "    Found existing installation: nvidia-cuda-runtime-cu12 12.5.82\n",
      "    Uninstalling nvidia-cuda-runtime-cu12-12.5.82:\n",
      "      Successfully uninstalled nvidia-cuda-runtime-cu12-12.5.82\n",
      "  Attempting uninstall: nvidia-cuda-nvrtc-cu12\n",
      "    Found existing installation: nvidia-cuda-nvrtc-cu12 12.5.82\n",
      "    Uninstalling nvidia-cuda-nvrtc-cu12-12.5.82:\n",
      "      Successfully uninstalled nvidia-cuda-nvrtc-cu12-12.5.82\n",
      "  Attempting uninstall: nvidia-cuda-cupti-cu12\n",
      "    Found existing installation: nvidia-cuda-cupti-cu12 12.5.82\n",
      "    Uninstalling nvidia-cuda-cupti-cu12-12.5.82:\n",
      "      Successfully uninstalled nvidia-cuda-cupti-cu12-12.5.82\n",
      "  Attempting uninstall: nvidia-cublas-cu12\n",
      "    Found existing installation: nvidia-cublas-cu12 12.5.3.2\n",
      "    Uninstalling nvidia-cublas-cu12-12.5.3.2:\n",
      "      Successfully uninstalled nvidia-cublas-cu12-12.5.3.2\n",
      "  Attempting uninstall: nvidia-cusparse-cu12\n",
      "    Found existing installation: nvidia-cusparse-cu12 12.5.1.3\n",
      "    Uninstalling nvidia-cusparse-cu12-12.5.1.3:\n",
      "      Successfully uninstalled nvidia-cusparse-cu12-12.5.1.3\n",
      "  Attempting uninstall: nvidia-cudnn-cu12\n",
      "    Found existing installation: nvidia-cudnn-cu12 9.3.0.75\n",
      "    Uninstalling nvidia-cudnn-cu12-9.3.0.75:\n",
      "      Successfully uninstalled nvidia-cudnn-cu12-9.3.0.75\n",
      "  Attempting uninstall: nvidia-cusolver-cu12\n",
      "    Found existing installation: nvidia-cusolver-cu12 11.6.3.83\n",
      "    Uninstalling nvidia-cusolver-cu12-11.6.3.83:\n",
      "      Successfully uninstalled nvidia-cusolver-cu12-11.6.3.83\n",
      "Successfully installed bert-score-0.3.13 colorama-0.4.6 nvidia-cublas-cu12-12.4.5.8 nvidia-cuda-cupti-cu12-12.4.127 nvidia-cuda-nvrtc-cu12-12.4.127 nvidia-cuda-runtime-cu12-12.4.127 nvidia-cudnn-cu12-9.1.0.70 nvidia-cufft-cu12-11.2.1.3 nvidia-curand-cu12-10.3.5.147 nvidia-cusolver-cu12-11.6.1.9 nvidia-cusparse-cu12-12.3.1.170 nvidia-nvjitlink-cu12-12.4.127 portalocker-3.1.1 sacrebleu-2.5.1\n"
     ]
    }
   ],
   "source": [
    "!pip install sacrebleu bert-score"
   ]
  },
  {
   "cell_type": "code",
   "execution_count": null,
   "metadata": {
    "colab": {
     "base_uri": "https://localhost:8080/"
    },
    "id": "u8eDfkUGMop1",
    "outputId": "a1e8eefd-2c82-4c4f-81aa-bd113d04e5f8"
   },
   "outputs": [
    {
     "name": "stdout",
     "output_type": "stream",
     "text": [
      "Collecting evaluate\n",
      "  Downloading evaluate-0.4.3-py3-none-any.whl.metadata (9.2 kB)\n",
      "Requirement already satisfied: datasets>=2.0.0 in /usr/local/lib/python3.11/dist-packages (from evaluate) (3.3.2)\n",
      "Requirement already satisfied: numpy>=1.17 in /usr/local/lib/python3.11/dist-packages (from evaluate) (1.26.4)\n",
      "Requirement already satisfied: dill in /usr/local/lib/python3.11/dist-packages (from evaluate) (0.3.8)\n",
      "Requirement already satisfied: pandas in /usr/local/lib/python3.11/dist-packages (from evaluate) (2.2.2)\n",
      "Requirement already satisfied: requests>=2.19.0 in /usr/local/lib/python3.11/dist-packages (from evaluate) (2.32.3)\n",
      "Requirement already satisfied: tqdm>=4.62.1 in /usr/local/lib/python3.11/dist-packages (from evaluate) (4.67.1)\n",
      "Requirement already satisfied: xxhash in /usr/local/lib/python3.11/dist-packages (from evaluate) (3.5.0)\n",
      "Requirement already satisfied: multiprocess in /usr/local/lib/python3.11/dist-packages (from evaluate) (0.70.16)\n",
      "Requirement already satisfied: fsspec>=2021.05.0 in /usr/local/lib/python3.11/dist-packages (from fsspec[http]>=2021.05.0->evaluate) (2024.10.0)\n",
      "Requirement already satisfied: huggingface-hub>=0.7.0 in /usr/local/lib/python3.11/dist-packages (from evaluate) (0.28.1)\n",
      "Requirement already satisfied: packaging in /usr/local/lib/python3.11/dist-packages (from evaluate) (24.2)\n",
      "Requirement already satisfied: filelock in /usr/local/lib/python3.11/dist-packages (from datasets>=2.0.0->evaluate) (3.17.0)\n",
      "Requirement already satisfied: pyarrow>=15.0.0 in /usr/local/lib/python3.11/dist-packages (from datasets>=2.0.0->evaluate) (18.1.0)\n",
      "Requirement already satisfied: aiohttp in /usr/local/lib/python3.11/dist-packages (from datasets>=2.0.0->evaluate) (3.11.12)\n",
      "Requirement already satisfied: pyyaml>=5.1 in /usr/local/lib/python3.11/dist-packages (from datasets>=2.0.0->evaluate) (6.0.2)\n",
      "Requirement already satisfied: typing-extensions>=3.7.4.3 in /usr/local/lib/python3.11/dist-packages (from huggingface-hub>=0.7.0->evaluate) (4.12.2)\n",
      "Requirement already satisfied: charset-normalizer<4,>=2 in /usr/local/lib/python3.11/dist-packages (from requests>=2.19.0->evaluate) (3.4.1)\n",
      "Requirement already satisfied: idna<4,>=2.5 in /usr/local/lib/python3.11/dist-packages (from requests>=2.19.0->evaluate) (3.10)\n",
      "Requirement already satisfied: urllib3<3,>=1.21.1 in /usr/local/lib/python3.11/dist-packages (from requests>=2.19.0->evaluate) (2.3.0)\n",
      "Requirement already satisfied: certifi>=2017.4.17 in /usr/local/lib/python3.11/dist-packages (from requests>=2.19.0->evaluate) (2025.1.31)\n",
      "Requirement already satisfied: python-dateutil>=2.8.2 in /usr/local/lib/python3.11/dist-packages (from pandas->evaluate) (2.8.2)\n",
      "Requirement already satisfied: pytz>=2020.1 in /usr/local/lib/python3.11/dist-packages (from pandas->evaluate) (2025.1)\n",
      "Requirement already satisfied: tzdata>=2022.7 in /usr/local/lib/python3.11/dist-packages (from pandas->evaluate) (2025.1)\n",
      "Requirement already satisfied: aiohappyeyeballs>=2.3.0 in /usr/local/lib/python3.11/dist-packages (from aiohttp->datasets>=2.0.0->evaluate) (2.4.6)\n",
      "Requirement already satisfied: aiosignal>=1.1.2 in /usr/local/lib/python3.11/dist-packages (from aiohttp->datasets>=2.0.0->evaluate) (1.3.2)\n",
      "Requirement already satisfied: attrs>=17.3.0 in /usr/local/lib/python3.11/dist-packages (from aiohttp->datasets>=2.0.0->evaluate) (25.1.0)\n",
      "Requirement already satisfied: frozenlist>=1.1.1 in /usr/local/lib/python3.11/dist-packages (from aiohttp->datasets>=2.0.0->evaluate) (1.5.0)\n",
      "Requirement already satisfied: multidict<7.0,>=4.5 in /usr/local/lib/python3.11/dist-packages (from aiohttp->datasets>=2.0.0->evaluate) (6.1.0)\n",
      "Requirement already satisfied: propcache>=0.2.0 in /usr/local/lib/python3.11/dist-packages (from aiohttp->datasets>=2.0.0->evaluate) (0.3.0)\n",
      "Requirement already satisfied: yarl<2.0,>=1.17.0 in /usr/local/lib/python3.11/dist-packages (from aiohttp->datasets>=2.0.0->evaluate) (1.18.3)\n",
      "Requirement already satisfied: six>=1.5 in /usr/local/lib/python3.11/dist-packages (from python-dateutil>=2.8.2->pandas->evaluate) (1.17.0)\n",
      "Downloading evaluate-0.4.3-py3-none-any.whl (84 kB)\n",
      "\u001b[2K   \u001b[90m━━━━━━━━━━━━━━━━━━━━━━━━━━━━━━━━━━━━━━━━\u001b[0m \u001b[32m84.0/84.0 kB\u001b[0m \u001b[31m1.6 MB/s\u001b[0m eta \u001b[36m0:00:00\u001b[0m\n",
      "\u001b[?25hInstalling collected packages: evaluate\n",
      "Successfully installed evaluate-0.4.3\n"
     ]
    }
   ],
   "source": [
    "pip install evaluate"
   ]
  },
  {
   "cell_type": "code",
   "execution_count": null,
   "metadata": {
    "colab": {
     "base_uri": "https://localhost:8080/",
     "height": 81,
     "referenced_widgets": [
      "d15d617801d040cc9870ce03950c87af",
      "dd1270ea2a634b6c825c381b82f93c22",
      "c0d81064c38f4b619dfa42b54abc7abf",
      "95c00241d22a4529964feef52457ec4c",
      "6ead21184d07463f8aa8bd9e4aaecf6f",
      "e8efcc9ddb6b47d1a55dab74591ace2e",
      "75aff4bfa2b74691ba68d180ea88185c",
      "4a773b5538114215915b0215da1cf5ea",
      "0b8ac90383ba4521a9956b5f5beac9c6",
      "27689698dad747cd9f8511a08489e5b0",
      "3e785dfb3c8c4141b99b5ab17b1d603d",
      "7244a806858d4b8c9a5e59947c9903aa",
      "673e76e7836d4640a77a6f45be8a67c4",
      "6f805fd435b54ee5a5c7d11f75016dae",
      "3ff34d0bcd5b46bab0d000c8ff94f32c",
      "cb6e6b76bf9c4b16a20aab50300d7d30",
      "67d5c43ee8f1492990d8c958a2ed4112",
      "64e52f74bc1c44f2b4110924532b776f",
      "be51434e0d2d4519910f3c08678223ab",
      "0aec7001aec44d4ea815d02d83d162c1",
      "4f74439b51014ce99e020b78f7cb26a2",
      "30c1a5a2198940f1bb7d2f1dc16c23c0"
     ]
    },
    "id": "lTL1T4ovKO8e",
    "outputId": "886c9aa7-dfb6-44c2-d876-df336d09a30a"
   },
   "outputs": [
    {
     "data": {
      "application/vnd.jupyter.widget-view+json": {
       "model_id": "d15d617801d040cc9870ce03950c87af",
       "version_major": 2,
       "version_minor": 0
      },
      "text/plain": [
       "Downloading builder script:   0%|          | 0.00/8.15k [00:00<?, ?B/s]"
      ]
     },
     "metadata": {},
     "output_type": "display_data"
    },
    {
     "data": {
      "application/vnd.jupyter.widget-view+json": {
       "model_id": "7244a806858d4b8c9a5e59947c9903aa",
       "version_major": 2,
       "version_minor": 0
      },
      "text/plain": [
       "Downloading builder script:   0%|          | 0.00/7.95k [00:00<?, ?B/s]"
      ]
     },
     "metadata": {},
     "output_type": "display_data"
    }
   ],
   "source": [
    "import evaluate\n",
    "bleu_metric = evaluate.load(\"sacrebleu\")\n",
    "bert_metric = evaluate.load(\"bertscore\")"
   ]
  },
  {
   "cell_type": "code",
   "execution_count": null,
   "metadata": {
    "colab": {
     "base_uri": "https://localhost:8080/"
    },
    "id": "syYxXFa2LVc5",
    "outputId": "7b9c3647-5614-4911-e673-8da6a771a14b"
   },
   "outputs": [
    {
     "data": {
      "text/plain": [
       "{'score': 100.00000000000004,\n",
       " 'counts': [4, 3, 2, 1],\n",
       " 'totals': [4, 3, 2, 1],\n",
       " 'precisions': [100.0, 100.0, 100.0, 100.0],\n",
       " 'bp': 1.0,\n",
       " 'sys_len': 4,\n",
       " 'ref_len': 4}"
      ]
     },
     "execution_count": 29,
     "metadata": {},
     "output_type": "execute_result"
    }
   ],
   "source": [
    "bleu_metric.compute(predictions=[\"I love cats.\"], references=[[\"I love cats.\"]])"
   ]
  },
  {
   "cell_type": "code",
   "execution_count": null,
   "metadata": {
    "colab": {
     "base_uri": "https://localhost:8080/"
    },
    "id": "mAMlWtILNEBu",
    "outputId": "9bac786c-220c-45de-f400-ff671a11822a"
   },
   "outputs": [
    {
     "data": {
      "text/plain": [
       "{'score': 100.00000000000004,\n",
       " 'counts': [24, 23, 22, 21],\n",
       " 'totals': [24, 23, 22, 21],\n",
       " 'precisions': [100.0, 100.0, 100.0, 100.0],\n",
       " 'bp': 1.0,\n",
       " 'sys_len': 24,\n",
       " 'ref_len': 24}"
      ]
     },
     "execution_count": 30,
     "metadata": {},
     "output_type": "execute_result"
    }
   ],
   "source": [
    "from transformers.models import reformer\n",
    "s = \"Unreal Engine is a 3D computer graphics game engine developed by Epic Games, first showcased in the 1998 first-person shooter game Unreal.\"\n",
    "bleu_metric.compute(predictions=[s], references=[[s]])"
   ]
  },
  {
   "cell_type": "code",
   "execution_count": null,
   "metadata": {
    "colab": {
     "base_uri": "https://localhost:8080/",
     "height": 313,
     "referenced_widgets": [
      "189972ce196d4928ada1a6b2e4cd59cf",
      "b93b5647c0d94d2f9002a0a46f716fcc",
      "2cc681fffdde47db807e4d71555f2554",
      "cee7d290d12448e183fe5f27d79a7a7b",
      "449b52190a384ce28056751105ff0a6d",
      "43b91771f6594af5aea0c56e01d55d93",
      "ba551313c36c451882e026676801e522",
      "4224f6fdbd3343c48da40ae7b682dac2",
      "a61190a080b54625a19cfc31f5ae31a2",
      "161a4155d52e4d9a804b8102eb4bebee",
      "a0b3a6508575436383a70312d41f0d3d",
      "0006a135748e489e95a612ba294876e9",
      "158354fb493b4690a4fdc51a68cc6888",
      "992c6ca06b474614afa3eeee25b43689",
      "3b178dfaa6f2410a9113f46540ea37cd",
      "f9b3e2fd2c1c4210a6f63d7d14eb4bb5",
      "220fb6df748c47b2a9b472c488d25ca0",
      "7bc5b274a37c4f258fa706ebf24c9b0b",
      "b82cf67981584e868afbbff9a9de718b",
      "012b0b11f430475b9d36d672c59ad54d",
      "c0ba1b35e9d34cf8b9b27616eb39526d",
      "a08cb04a897e42deafa289555ff4e11b",
      "9b4f6b5f04624602a229c4542a08c4f3",
      "29ea8716a8884a7c88fafaa1e6ee1680",
      "4c0147c70c1f4e688441118a55288e3d",
      "eba5ebdd0dd34fd8b1951f62dae6e2d1",
      "655358fa219141c48f8d29f652d1d520",
      "2d82c0334caa4a5ead5f33b59e73f5ec",
      "07eb8dceff9a4616a72088e8174a5c4b",
      "85aa938bfcd34128bed68d24d55c2a0a",
      "4abbeb78945b4f46b98ce6e0bcc4eacd",
      "77c9cef9c6b1465eb4788a9084586237",
      "2cc0faf18a674df595d6754ea6987e50",
      "5a98798086b64cdebebaa6139a637b16",
      "bc28691edc7440babc44f7cbcd8a3ccb",
      "941d515de24947b0b73c9e2c220024bd",
      "9a281c0417514c9da8fcdf9625585591",
      "f06c294826a34bd2863cef2bcb08f235",
      "d93d41fd11e24c0f9cb3ca4c26694c16",
      "0ab42f7e6c8e4faeae52700c589f096b",
      "d47aa060c3c946c5973784efed7aa615",
      "60ccb70953354b34b58950cc4a389bad",
      "0ef0a4f0022948a084598b5434f6162c",
      "84be1eeee458445bb7bbb705420d7efc",
      "f43e392488fe4454bee307333c9f8912",
      "30fd58a3cfa647379db65a2588438d2d",
      "62a9f0d057524a70b66ae89548530e40",
      "c97013f0810c4be8b92082b799205571",
      "2af0292f80794963ac6f7458f9fed6d7",
      "568e8e8f085442e488ea1b72df26a99d",
      "fbd0b892c42141b3bcb4ef7a0b9357ed",
      "71caaaca252440e48c22c74edd161072",
      "f2306d7ceb3542ccb46a1b28cacc2109",
      "616a212dab084d3cad340c51cd5f947d",
      "81eeb4929fc54872b818271d0a47af5c",
      "f592b5207edb4701887fbdbdf36252cb",
      "a2c5febffe1446538317b3ff84e6d2cb",
      "587ce406b5a444b789968d1f7cd42791",
      "83bb77e578c247a78ccf13d10f9afd2f",
      "e998f447374b4b5ea50b46372bfc7644",
      "213071b0c3fc4c49be8c85e80ec6aa82",
      "26872f8dad2f47a29f0f8b60f779fbad",
      "ce943333582e4b88826b7d3cedd03cd5",
      "2df71a37708447f096517951301b86b9",
      "f06d1adadc8f4829b3e4e15e4fa4369f",
      "9edd5a16921a461aa88e64a2da4e7b11"
     ]
    },
    "id": "iQqJAdL6N-VY",
    "outputId": "e79649f5-ec30-4331-81d7-c3babcb1200a"
   },
   "outputs": [
    {
     "data": {
      "application/vnd.jupyter.widget-view+json": {
       "model_id": "189972ce196d4928ada1a6b2e4cd59cf",
       "version_major": 2,
       "version_minor": 0
      },
      "text/plain": [
       "tokenizer_config.json:   0%|          | 0.00/25.0 [00:00<?, ?B/s]"
      ]
     },
     "metadata": {},
     "output_type": "display_data"
    },
    {
     "data": {
      "application/vnd.jupyter.widget-view+json": {
       "model_id": "0006a135748e489e95a612ba294876e9",
       "version_major": 2,
       "version_minor": 0
      },
      "text/plain": [
       "config.json:   0%|          | 0.00/482 [00:00<?, ?B/s]"
      ]
     },
     "metadata": {},
     "output_type": "display_data"
    },
    {
     "data": {
      "application/vnd.jupyter.widget-view+json": {
       "model_id": "9b4f6b5f04624602a229c4542a08c4f3",
       "version_major": 2,
       "version_minor": 0
      },
      "text/plain": [
       "vocab.json:   0%|          | 0.00/899k [00:00<?, ?B/s]"
      ]
     },
     "metadata": {},
     "output_type": "display_data"
    },
    {
     "data": {
      "application/vnd.jupyter.widget-view+json": {
       "model_id": "5a98798086b64cdebebaa6139a637b16",
       "version_major": 2,
       "version_minor": 0
      },
      "text/plain": [
       "merges.txt:   0%|          | 0.00/456k [00:00<?, ?B/s]"
      ]
     },
     "metadata": {},
     "output_type": "display_data"
    },
    {
     "data": {
      "application/vnd.jupyter.widget-view+json": {
       "model_id": "f43e392488fe4454bee307333c9f8912",
       "version_major": 2,
       "version_minor": 0
      },
      "text/plain": [
       "tokenizer.json:   0%|          | 0.00/1.36M [00:00<?, ?B/s]"
      ]
     },
     "metadata": {},
     "output_type": "display_data"
    },
    {
     "data": {
      "application/vnd.jupyter.widget-view+json": {
       "model_id": "f592b5207edb4701887fbdbdf36252cb",
       "version_major": 2,
       "version_minor": 0
      },
      "text/plain": [
       "model.safetensors:   0%|          | 0.00/1.42G [00:00<?, ?B/s]"
      ]
     },
     "metadata": {},
     "output_type": "display_data"
    },
    {
     "name": "stderr",
     "output_type": "stream",
     "text": [
      "Some weights of RobertaModel were not initialized from the model checkpoint at roberta-large and are newly initialized: ['roberta.pooler.dense.bias', 'roberta.pooler.dense.weight']\n",
      "You should probably TRAIN this model on a down-stream task to be able to use it for predictions and inference.\n"
     ]
    },
    {
     "data": {
      "text/plain": [
       "{'precision': [0.9877963662147522],\n",
       " 'recall': [0.9877963662147522],\n",
       " 'f1': [0.9877963662147522],\n",
       " 'hashcode': 'roberta-large_L17_no-idf_version=0.3.12(hug_trans=4.48.3)'}"
      ]
     },
     "execution_count": 31,
     "metadata": {},
     "output_type": "execute_result"
    }
   ],
   "source": [
    "bert_metric.compute(\n",
    "    predictions=[\"I love cats.\"],\n",
    "    references=[[\"I like cats.\"]],\n",
    "    lang=\"en\"\n",
    ")"
   ]
  },
  {
   "cell_type": "code",
   "execution_count": null,
   "metadata": {
    "colab": {
     "base_uri": "https://localhost:8080/"
    },
    "id": "O-ZxPhFLOOWR",
    "outputId": "e462154d-6777-4e05-9ff6-c0d3f6ad08dd"
   },
   "outputs": [
    {
     "data": {
      "text/plain": [
       "{'score': 35.35533905932737,\n",
       " 'counts': [3, 1, 0, 0],\n",
       " 'totals': [4, 3, 2, 1],\n",
       " 'precisions': [75.0, 33.333333333333336, 25.0, 25.0],\n",
       " 'bp': 1.0,\n",
       " 'sys_len': 4,\n",
       " 'ref_len': 4}"
      ]
     },
     "execution_count": 32,
     "metadata": {},
     "output_type": "execute_result"
    }
   ],
   "source": [
    "# using blue metric there is no similarity for words\n",
    "bleu_metric.compute(\n",
    "    predictions=[\"I love cats.\"],\n",
    "    references=[[\"I like cats.\"]]\n",
    ")"
   ]
  },
  {
   "cell_type": "code",
   "execution_count": null,
   "metadata": {
    "id": "qW8FoF9pO3ij"
   },
   "outputs": [],
   "source": [
    "# create personal compute_metric function\n",
    "\n",
    "import numpy as np\n",
    "\n",
    "def compute_metrics(preds_and_labels):\n",
    "  preds, labels = preds_and_labels\n",
    "\n",
    "  #convert preds into words\n",
    "  decoded_preds = tokenizer.batch_decode(preds, skip_special_tokens=True)\n",
    "  labels = np.where(labels!= -100, labels, tokenizer.pad_token_id)\n",
    "  decoded_labels= tokenizer.batch_decode(labels, skip_special_tokens=True)\n",
    "\n",
    "  decoded_preds = [pred.strip() for pred in decoded_preds]\n",
    "  decoded_labels= [[label.strip()] for label in decoded_labels]\n",
    "\n",
    "  bleu= bleu_metric.compute(\n",
    "      predictions= decoded_preds,\n",
    "      references= decoded_labels\n",
    "  )\n",
    "  bert_score= bert_metric.compute(\n",
    "      predictions= decoded_preds,\n",
    "      references= decoded_labels,\n",
    "      lang=\"fr\"\n",
    "  )\n",
    "\n",
    "  return {\"bleu\": bleu[\"score\"], \"bert_score\": np.mean(bert_score[\"f1\"])}\n"
   ]
  },
  {
   "cell_type": "code",
   "execution_count": null,
   "metadata": {
    "colab": {
     "base_uri": "https://localhost:8080/"
    },
    "id": "kqezesQFP44N",
    "outputId": "56195f2d-c251-49b9-d441-db86b1b03830"
   },
   "outputs": [
    {
     "name": "stderr",
     "output_type": "stream",
     "text": [
      "/usr/local/lib/python3.11/dist-packages/transformers/training_args.py:1575: FutureWarning: `evaluation_strategy` is deprecated and will be removed in version 4.46 of 🤗 Transformers. Use `eval_strategy` instead\n",
      "  warnings.warn(\n"
     ]
    }
   ],
   "source": [
    "# creating training arguments\n",
    "from transformers import Seq2SeqTrainingArguments\n",
    "\n",
    "training_args = Seq2SeqTrainingArguments(\n",
    "    \"finetuned-model\",\n",
    "    evaluation_strategy=\"no\",\n",
    "    save_strategy=\"epoch\",\n",
    "    learning_rate=2e-5,\n",
    "    per_device_train_batch_size=32,\n",
    "    per_device_eval_batch_size=64,\n",
    "    weight_decay=0.01,\n",
    "    save_total_limit=3,\n",
    "    num_train_epochs=3,\n",
    "    predict_with_generate=True, # makes it autoregressive\n",
    "    fp16=True,\n",
    ")"
   ]
  },
  {
   "cell_type": "code",
   "execution_count": null,
   "metadata": {
    "id": "_UgqncmrS5jp"
   },
   "outputs": [],
   "source": [
    "# trainer\n",
    "from transformers import Seq2SeqTrainer\n",
    "trainer = Seq2SeqTrainer(\n",
    "    model,\n",
    "    training_args,\n",
    "    train_dataset = tokenized_datasets[\"train\"],\n",
    "    eval_dataset = tokenized_datasets[\"test\"],\n",
    "    data_collator = data_collator,\n",
    "    processing_class = tokenizer,\n",
    "    compute_metrics = compute_metrics,\n",
    ")"
   ]
  },
  {
   "cell_type": "code",
   "execution_count": null,
   "metadata": {
    "colab": {
     "base_uri": "https://localhost:8080/",
     "height": 37
    },
    "collapsed": true,
    "id": "L5VhuK_uTwEV",
    "outputId": "db8d76b1-6474-4a4c-9697-1222765a7513"
   },
   "outputs": [
    {
     "data": {
      "text/html": [
       "\n",
       "    <div>\n",
       "      \n",
       "      <progress value='411' max='411' style='width:300px; height:20px; vertical-align: middle;'></progress>\n",
       "      [411/411 37:32]\n",
       "    </div>\n",
       "    "
      ],
      "text/plain": [
       "<IPython.core.display.HTML object>"
      ]
     },
     "metadata": {},
     "output_type": "display_data"
    }
   ],
   "source": [
    "#checking metrics before begining\n",
    "trainer.evaluate(max_length=max_target_len)"
   ]
  },
  {
   "cell_type": "code",
   "execution_count": null,
   "metadata": {
    "id": "M_WfKCknUFy-"
   },
   "outputs": [],
   "source": [
    "# higher gpu or restart runtime\n",
    "trainer.train()"
   ]
  },
  {
   "cell_type": "code",
   "execution_count": null,
   "metadata": {
    "id": "JC4jk0dPUrQ6"
   },
   "outputs": [],
   "source": [
    "#checking metrics again\n",
    "trainer.evaluate(max_length=max_target_len)"
   ]
  },
  {
   "cell_type": "code",
   "execution_count": null,
   "metadata": {
    "id": "aiLd9cjmVItH"
   },
   "outputs": [],
   "source": [
    "trainer.save_model(\"my_saved_model\")"
   ]
  },
  {
   "cell_type": "code",
   "execution_count": null,
   "metadata": {
    "id": "X7Tym9ecVXIj"
   },
   "outputs": [],
   "source": [
    "from transformers import pipeline\n",
    "translator = pipeline(\"translation\", model = \"my_saved_model\", device=0)"
   ]
  },
  {
   "cell_type": "code",
   "execution_count": null,
   "metadata": {
    "id": "Q5Eoz0VsV0gx"
   },
   "outputs": [],
   "source": [
    "translator(\"I hope you are doing well.\")"
   ]
  },
  {
   "cell_type": "code",
   "execution_count": null,
   "metadata": {
    "id": "5EgNllXwInms"
   },
   "outputs": [],
   "source": [
    "translator(\"Hello How are you doing today?, let's learn Deep Learning\")"
   ]
  },
  {
   "cell_type": "code",
   "execution_count": null,
   "metadata": {
    "id": "iC2vnLDAOjjR"
   },
   "outputs": [],
   "source": [
    "translator(\"Work until you achieve your goal.\")"
   ]
  }
 ],
 "metadata": {
  "accelerator": "GPU",
  "colab": {
   "gpuType": "T4",
   "provenance": []
  },
  "kernelspec": {
   "display_name": "Python 3",
   "name": "python3"
  },
  "language_info": {
   "name": "python"
  }
 },
 "nbformat": 4,
 "nbformat_minor": 0
}
